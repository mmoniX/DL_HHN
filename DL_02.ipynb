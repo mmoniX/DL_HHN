{
 "cells": [
  {
   "cell_type": "markdown",
   "id": "6ba59c64-b1b0-441e-ad33-afc554e6b3bd",
   "metadata": {},
   "source": [
    "> ** Task: Open [/LOSC_Event_tutorial/LOSC_Event_tutorial.ipynb](https://drive.google.com/file/d/1P8wS-VDTA1EjHjGLRq_cOGUKfJ8SBv7f/view?usp=drive_link), a notebook on gravitational waves and quickly step through it. Try to edit and execute text and code cells. Do you have an idea what the advantages of such notebook are in contrast to an ordinary development environment? Type them in below: **"
   ]
  },
  {
   "cell_type": "code",
   "execution_count": null,
   "id": "6eb84c63-4579-4b40-adc9-6b2df738dcb3",
   "metadata": {},
   "outputs": [],
   "source": []
  },
  {
   "cell_type": "markdown",
   "id": "2a8832cf-4715-4e9b-bf5b-a7198813c7c5",
   "metadata": {},
   "source": [
    ">** Task: Try to find out how to insert a Text cell (== Markdown cell) and a code cell below this cell. Insert both cells and delete them afterwards. Quickly summarize how this could be achieved below. **"
   ]
  },
  {
   "cell_type": "code",
   "execution_count": null,
   "id": "4c8d51b8-236e-4282-8cba-c642fe4545c5",
   "metadata": {},
   "outputs": [],
   "source": []
  },
  {
   "cell_type": "markdown",
   "id": "f6313fce-94ea-4e6e-8933-919ed2b90fae",
   "metadata": {},
   "source": [
    ">** Task: insert a code cell below and try this out for the print statement! **"
   ]
  },
  {
   "cell_type": "code",
   "execution_count": 4,
   "id": "02c90ebe",
   "metadata": {},
   "outputs": [
    {
     "name": "stdout",
     "output_type": "stream",
     "text": [
      "Addition: 10 + 5 = 15\n",
      "Subtraction: 10 - 9 = 1\n",
      "Multiplication: 3 * 5 = 15\n",
      "Exponentiation: 2 ^ 3 = 8\n",
      "Exponentiation: 3 ^ 3 = 27\n",
      "Division: 9 / 4 = 2.25\n",
      "Floor Division: 9 div 4 = 2\n",
      "Modulo : 10 mod 2 =  0\n",
      "Modulo : 10 mod 3 =  1\n"
     ]
    }
   ],
   "source": [
    "print(\"Addition: 10 + 5 =\", 10 + 5)\n",
    "print(\"Subtraction: 10 - 9 =\", 10 - 9)\n",
    "print(\"Multiplication: 3 * 5 =\", 3 * 5)\n",
    "print(\"Exponentiation: 2 ^ 3 =\", 2 ** 3 )\n",
    "print(\"Exponentiation: 3 ^ 3 =\", 3 ** 3 )\n",
    "print(\"Division: 9 / 4 =\", 9 / 4)\n",
    "\n",
    "# TODO: complete the missing computations below. Use one of the ways to get help to find out how!\n",
    "print(\"Floor Division: 9 div 4 =\", 9 // 4)  # floor division discards the fractional part\n",
    "print(\"Modulo : 10 mod 2 = \", 10 % 2)\n",
    "print(\"Modulo : 10 mod 3 = \", 10 % 3)"
   ]
  },
  {
   "cell_type": "markdown",
   "id": "35233990-2a4b-4f47-b7c7-45d3d0717dcd",
   "metadata": {},
   "source": [
    "> ** Task: Create 3 Variables to calculate the money you ended up with after 7 years of investing 1000€?\n",
    "> The interest rate is 10%, Formula: 1000 x 1.1 ^ 7 **"
   ]
  },
  {
   "cell_type": "code",
   "execution_count": 3,
   "id": "5f9a4d0d",
   "metadata": {},
   "outputs": [
    {
     "name": "stdout",
     "output_type": "stream",
     "text": [
      "1948.72\n",
      "Type of savings: <class 'int'>\n",
      "Type of factor: <class 'float'>\n",
      "Type of result: <class 'float'>\n"
     ]
    }
   ],
   "source": [
    "# Create a variable savings\n",
    "savings = 1000 # Integer\n",
    "\n",
    "# Create a variable factor\n",
    "factor = 1.1 # Float\n",
    "\n",
    "# TODO: Calculate result\n",
    "result = savings * (factor ** 7)\n",
    "\n",
    "# Print out result\n",
    "print(f'{result:.2f}')\n",
    "\n",
    "# Check which data types we are using.\n",
    "\n",
    "print(\"Type of savings:\", type(savings))\n",
    "print(\"Type of factor:\", type(factor))\n",
    "print(\"Type of result:\", type(result))"
   ]
  },
  {
   "cell_type": "markdown",
   "id": "6f7f7a94-5922-43ab-a96b-1928ded14c81",
   "metadata": {},
   "source": [
    ">** Task: Please create your own example using \"x not in s\" and \"x in s\" like in the table above. **"
   ]
  },
  {
   "cell_type": "code",
   "execution_count": 8,
   "id": "625ba13d-e41e-4273-b430-d0b5f4e63d63",
   "metadata": {},
   "outputs": [
    {
     "name": "stdout",
     "output_type": "stream",
     "text": [
      "True\n",
      "False\n",
      "True\n",
      "False\n"
     ]
    }
   ],
   "source": [
    "s = \"abcd\"\n",
    "print(\"f\" not in s)\n",
    "print(\"c\" not in s)\n",
    "print(\"c\" in s)\n",
    "print(\"f\" in s)"
   ]
  },
  {
   "cell_type": "markdown",
   "id": "9fa2c076-c8dc-4d98-930c-ddbccc4d7da9",
   "metadata": {},
   "source": [
    "> ** Task: Create a new cell below, write a program which requests the user's name, weight and height. The programm computes the Body Mass Index (BMI) according to $$\\mathrm{BMI} =\\frac{\\mathrm{weight}}{\\mathrm{heigt}^2}$$\n",
    "The output message shall be: \"Hello `name`, your BMI is: `BMI`\" **"
   ]
  },
  {
   "cell_type": "code",
   "execution_count": 1,
   "id": "7a9496cf-2d35-4da6-990f-44559cd3550b",
   "metadata": {},
   "outputs": [
    {
     "name": "stdin",
     "output_type": "stream",
     "text": [
      "Please insert your name:  monika\n",
      "Please insert your weight in kg:  65\n",
      "Please insert your height in cm:  155\n"
     ]
    },
    {
     "name": "stdout",
     "output_type": "stream",
     "text": [
      "\n",
      "Hello MONIKA, your BMI is: 27.06\n"
     ]
    }
   ],
   "source": [
    "# TODO: Insert BMI computation in here!\n",
    "\n",
    "name = input(\"Please insert your name: \").upper()\n",
    "weight = float(input(\"Please insert your weight in kg: \"))\n",
    "height = float(input(\"Please insert your height in cm: \")) / 100\n",
    "BMI = weight / (height ** 2)\n",
    "print(f\"\\nHello {name}, your BMI is: {BMI:.2f}\")"
   ]
  },
  {
   "cell_type": "markdown",
   "id": "372e2511-b690-4c21-afa7-44e1757c63cd",
   "metadata": {},
   "source": [
    ">** Task: draw a flow chart of the If-Elif-Else structure in a drawing tool and insert the picture in a markdown cell below. How would the chart look like without having the else: statement? **"
   ]
  },
  {
   "cell_type": "markdown",
   "id": "45008833-b567-4f4b-a673-815e95e5d275",
   "metadata": {},
   "source": [
    "<img src=\"C:\\Users\\Asus\\Downloads\\If-elif-else-flowchart.jpg\" alt=\"If-Elif-Else Structure\" width=\"350\">"
   ]
  },
  {
   "cell_type": "code",
   "execution_count": 3,
   "id": "c5a2fb61-190e-4215-8502-9629211dc3a6",
   "metadata": {},
   "outputs": [
    {
     "name": "stdin",
     "output_type": "stream",
     "text": [
      "Please enter an integer:  15\n"
     ]
    },
    {
     "name": "stdout",
     "output_type": "stream",
     "text": [
      "x is greater than or equal to 5\n"
     ]
    }
   ],
   "source": [
    "x = int(input(\"Please enter an integer: \"))\n",
    "\n",
    "if x < 5:\n",
    "    print('x less than 5')\n",
    "    if x == 0:\n",
    "        print('Zero')\n",
    "    elif x > 0:\n",
    "         print('x is positive')\n",
    "    else:\n",
    "         print('x is negative')\n",
    "else:\n",
    "    print(\"x is greater than or equal to 5\")"
   ]
  },
  {
   "cell_type": "markdown",
   "id": "23fa766a-ecad-4f67-bea8-bc3491dfa2a5",
   "metadata": {},
   "source": [
    ">** Task: Discuss with your neighbor how the example of Fibonacci series computation works! **"
   ]
  },
  {
   "cell_type": "code",
   "execution_count": 32,
   "id": "e181ebdc-3e5a-4f5c-9907-6562caf9e6cc",
   "metadata": {},
   "outputs": [],
   "source": [
    "def fibonacci(n):\n",
    "    \"\"\"Print a Fibonacci series up to n.\"\"\"\n",
    "    print(f\"The Fibonacci series upto {n} value is:\\n\")\n",
    "    a, b = 0, 1\n",
    "    while a < n:\n",
    "        print(a, end = ' ')\n",
    "        a, b = b, (a+b)"
   ]
  },
  {
   "cell_type": "code",
   "execution_count": 33,
   "id": "090aa1a5-74d5-492e-9636-5beea8f56cbe",
   "metadata": {},
   "outputs": [
    {
     "name": "stdin",
     "output_type": "stream",
     "text": [
      "Please insert the value of n:  2000\n"
     ]
    },
    {
     "name": "stdout",
     "output_type": "stream",
     "text": [
      "The Fibonacci series upto 2000 value is:\n",
      "\n",
      "0 1 1 2 3 5 8 13 21 34 55 89 144 233 377 610 987 1597 "
     ]
    }
   ],
   "source": [
    "n = int(input(\"Please insert the value of n: \"))\n",
    "fibonacci(n)"
   ]
  },
  {
   "cell_type": "code",
   "execution_count": 35,
   "id": "ab237da7-6349-41ec-82c6-1feb5c0529ef",
   "metadata": {},
   "outputs": [],
   "source": [
    "def brake(v0, a, tvz = 1):\n",
    "    '''\n",
    "    INPUTS\n",
    "    v0 : initial velocity in m/s\n",
    "    a  : acceleration (has to be negative for braking)\n",
    "    tvz: time offset (default is 1 s of reaction time)\n",
    "\n",
    "    OUTPUTs\n",
    "    s : distance needed to stop\n",
    "    t : time needed to stop\n",
    "    '''\n",
    "\n",
    "    s = v0 * tvz - (v0**2) / (2*a)\n",
    "    t = tvz - v0 / a\n",
    "\n",
    "    return s, t"
   ]
  },
  {
   "cell_type": "code",
   "execution_count": 36,
   "id": "bbaf92fa-9043-4e0e-8dfe-44630aefb0ba",
   "metadata": {},
   "outputs": [
    {
     "name": "stdout",
     "output_type": "stream",
     "text": [
      "Time in seconds to stop from 90 km/h, a=10 m/s^2:  3.5\n",
      "Distance in meter to stop from 90 km/h, a=10 m/s^2:  56.25\n"
     ]
    }
   ],
   "source": [
    "# compute time to stop from 90 km/h, a= -10 m/s^2\n",
    "\n",
    "_, time = brake(90/3.6, -10)\n",
    "print('Time in seconds to stop from 90 km/h, a=10 m/s^2: ', time)\n",
    "\n",
    "# compute distance to stop from 90 km/h, a= -10 m/s^2\n",
    "\n",
    "distance, _ = brake(90/3.6, -10)\n",
    "print('Distance in meter to stop from 90 km/h, a=10 m/s^2: ', distance)"
   ]
  },
  {
   "cell_type": "markdown",
   "id": "f91accc6-964d-4978-bb8e-56ef63c01c2f",
   "metadata": {},
   "source": [
    ">** Task: Create a new markdown cell below and describe the main differences between the different types of loops. What is the difference between break and continue. **"
   ]
  },
  {
   "cell_type": "code",
   "execution_count": null,
   "id": "552c25aa-ee64-4c99-a6e2-1b05fbe863c8",
   "metadata": {},
   "outputs": [],
   "source": []
  },
  {
   "cell_type": "markdown",
   "id": "f46ead73-77f9-42d1-922c-321ed37cdec1",
   "metadata": {},
   "source": [
    ">** Task: Figure out, what the difference between s - t and s ^ t is. **"
   ]
  },
  {
   "cell_type": "code",
   "execution_count": 4,
   "id": "d4010b34-b720-4b30-b44e-e11d021f26cf",
   "metadata": {},
   "outputs": [
    {
     "name": "stdout",
     "output_type": "stream",
     "text": [
      "{12, 7}\n",
      "{3, 4, 7, 12}\n"
     ]
    }
   ],
   "source": [
    "s = {2, 7, 12}\n",
    "t = {2, 3, 4}\n",
    "print(s - t)\n",
    "print(s ^ t)"
   ]
  },
  {
   "cell_type": "markdown",
   "id": "fcf395dd-0c5c-4ab9-accc-da59e388fd9e",
   "metadata": {},
   "source": [
    ">** Task: Explain the properties and differences of lists, tuples, sets and dictionaries to your neighbor **"
   ]
  },
  {
   "cell_type": "code",
   "execution_count": null,
   "id": "a358b955-c8a9-4fef-ad6d-64c081aa0c35",
   "metadata": {},
   "outputs": [],
   "source": []
  },
  {
   "cell_type": "markdown",
   "id": "65856ac0-7362-45e6-abb9-3aa2867c8e28",
   "metadata": {},
   "source": [
    ">** Task:\n",
    "> 1) write a function which reads a user input and counts the number of words.\n",
    "> 2) output also the number of different words.\n",
    "> 3) output for each word the number of occurrences in a dictionary **"
   ]
  },
  {
   "cell_type": "code",
   "execution_count": 15,
   "id": "2c154546-cce6-4ce1-8664-f1d2062a0b53",
   "metadata": {},
   "outputs": [],
   "source": [
    "def word_count(word):\n",
    "    # word = input(\"Please insert words: \")\n",
    "    word_list = word.split(' ')\n",
    "    word_dic = {value: word_list.count(value) for value in word_list}\n",
    "    total_words = len(word_list)\n",
    "    unique_words = len(word_dic)\n",
    "\n",
    "    # return total_words, unique_words, word_dic\n",
    "\n",
    "    print(f'number of total words    : {total_words}')\n",
    "    print(f'number of unique words   : {unique_words}')\n",
    "    print(f'number of different words: {word_dic}')"
   ]
  },
  {
   "cell_type": "code",
   "execution_count": 16,
   "id": "77e1190f-3c53-47f2-845b-19ee1a9bd54c",
   "metadata": {},
   "outputs": [
    {
     "name": "stdin",
     "output_type": "stream",
     "text": [
      "Please insert words:  hi\n"
     ]
    },
    {
     "name": "stdout",
     "output_type": "stream",
     "text": [
      "number of total words    : 1\n",
      "number of unique words   : 1\n",
      "number of different words: {'hi': 1}\n"
     ]
    }
   ],
   "source": [
    "word = input(\"Please insert words: \")\n",
    "word_count(word)"
   ]
  },
  {
   "cell_type": "code",
   "execution_count": 35,
   "id": "2398155b-f7fc-4d66-8368-c5fc090a87bd",
   "metadata": {},
   "outputs": [
    {
     "name": "stdin",
     "output_type": "stream",
     "text": [
      "Insert your text here:  apple mango rain water me apple \n"
     ]
    },
    {
     "name": "stdout",
     "output_type": "stream",
     "text": [
      "Word count         :  7\n",
      "Distinct word count:  6\n",
      "Word dictionary    :  {'apple': 2, 'mango': 1, 'rain': 1, 'water': 1, 'me': 1, '': 1}\n"
     ]
    }
   ],
   "source": [
    "def wordCount(text):\n",
    "    wordList = text.split(' ')\n",
    "    return len(wordList)\n",
    "\n",
    "def distinctWordCount(text):\n",
    "    wordList = text.split(' ')\n",
    "    return len(set(wordList))\n",
    "\n",
    "def wordDict(text):\n",
    "    wdict = {}\n",
    "    for word in text.split(' '):\n",
    "        if word in wdict:\n",
    "            wdict[word] +=1\n",
    "        else: \n",
    "            wdict[word] = 1 \n",
    "    return wdict\n",
    "    \n",
    "\n",
    "text = input('Insert your text here: ')\n",
    "\n",
    "print('Word count         : ', wordCount(text))\n",
    "print('Distinct word count: ', distinctWordCount(text))\n",
    "print('Word dictionary    : ', wordDict(text))"
   ]
  },
  {
   "cell_type": "code",
   "execution_count": null,
   "id": "da7bda4b-a0e0-4913-ad03-3d5a88010a17",
   "metadata": {},
   "outputs": [],
   "source": []
  }
 ],
 "metadata": {
  "kernelspec": {
   "display_name": "Python 3 (ipykernel)",
   "language": "python",
   "name": "python3"
  },
  "language_info": {
   "codemirror_mode": {
    "name": "ipython",
    "version": 3
   },
   "file_extension": ".py",
   "mimetype": "text/x-python",
   "name": "python",
   "nbconvert_exporter": "python",
   "pygments_lexer": "ipython3",
   "version": "3.12.1"
  }
 },
 "nbformat": 4,
 "nbformat_minor": 5
}
