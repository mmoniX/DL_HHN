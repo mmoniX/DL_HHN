{
 "cells": [
  {
   "cell_type": "markdown",
   "id": "7a0ab2a0-24b8-45bf-a79d-37a55ba657fe",
   "metadata": {},
   "source": [
    "> *** Task: Please implement the conversion with and without numpy by using lists only.\n",
    "Conversion of degree centigrade to degree fahrenheit, using this formula:\n",
    "$$ \\vartheta(°F) = \\vartheta(°C) \\cdot 9/5 + 32$$\n",
    "C = [20.1, 20.8, 21.9, 22.5, 22.7, 22.3, 21.8, 21.2, 20.9, 20.1]"
   ]
  },
  {
   "cell_type": "code",
   "execution_count": 29,
   "id": "2b2ddccd-3968-433d-ae5a-114fac70ad1f",
   "metadata": {},
   "outputs": [],
   "source": [
    "import numpy as np\n",
    "import matplotlib.pyplot as plt\n",
    "%matplotlib inline\n",
    "from sklearn.preprocessing import scale"
   ]
  },
  {
   "cell_type": "code",
   "execution_count": 7,
   "id": "d45d3c03-9abd-4f29-8a4e-815aeef5ee63",
   "metadata": {},
   "outputs": [
    {
     "name": "stdout",
     "output_type": "stream",
     "text": [
      "[68.18 69.44 71.42 72.5  72.86 72.14 71.24 70.16 69.62 68.18]\n"
     ]
    }
   ],
   "source": [
    "'''numpy conversion'''\n",
    "C = [20.1, 20.8, 21.9, 22.5, 22.7, 22.3, 21.8, 21.2, 20.9, 20.1]\n",
    "F = np.array(C) * (9/5) + 32\n",
    "print (F)"
   ]
  },
  {
   "cell_type": "code",
   "execution_count": 13,
   "id": "04b224e8-f89e-475c-9a95-b9ab95e3e75d",
   "metadata": {},
   "outputs": [
    {
     "name": "stdout",
     "output_type": "stream",
     "text": [
      "68.18 69.44 71.42 72.50 72.86 72.14 71.24 70.16 69.62 68.18 "
     ]
    }
   ],
   "source": [
    "'''list conversion'''\n",
    "for i in C:\n",
    "    F_l = i * (9/5) + 32\n",
    "    print (f'{F_l:.2f}', end = ' ')"
   ]
  },
  {
   "cell_type": "markdown",
   "id": "cb4a1b7a-edf7-417c-ac1c-774216ed5a1f",
   "metadata": {},
   "source": [
    "> *** Task: Examine the following code snippets and explain them to your neighbor!"
   ]
  },
  {
   "cell_type": "code",
   "execution_count": 14,
   "id": "098d0647-e642-4146-9fda-35a1831e5434",
   "metadata": {},
   "outputs": [
    {
     "data": {
      "text/plain": [
       "[5, 12, 21, 32]"
      ]
     },
     "execution_count": 14,
     "metadata": {},
     "output_type": "execute_result"
    }
   ],
   "source": [
    "arr1 = [1, 2, 3, 4]\n",
    "arr2 = [5, 6, 7, 8]\n",
    "\n",
    "product = []\n",
    "for i in range(len(arr1)):\n",
    "    product.append(arr1[i] * arr2[i])\n",
    "product"
   ]
  },
  {
   "cell_type": "markdown",
   "id": "ed7d5b10-7c91-4438-b5f5-4ac2c1ae474e",
   "metadata": {},
   "source": [
    "> *** Task: Describe below what broadcasting does."
   ]
  },
  {
   "cell_type": "markdown",
   "id": "a70960a4-abc9-4115-8781-2e1c7c46fdf4",
   "metadata": {},
   "source": [
    "Answer: It multiply arrays elementwise"
   ]
  },
  {
   "cell_type": "markdown",
   "id": "142a7d2c-cace-400a-ae53-324f1d7c3cba",
   "metadata": {},
   "source": [
    "### Example: Normalizing a Dataset\n",
    "\n",
    "Element-wise operations are useful for normalizing input data. Normalizing data is one of the techniques to speed-up the learning process when training a neural network. It consists of two steps:\n",
    "* Subtract-out the mean $\\mu$\n",
    "* Normalize the variances $\\sigma$\n",
    "\n",
    "Let us have a look at a imaginary training set $X$ with two input features $\\begin{bmatrix} x_1\\\\x_2\\end{bmatrix}$."
   ]
  },
  {
   "cell_type": "code",
   "execution_count": 15,
   "id": "8c097905-6c6b-4269-8814-da0a9f56dc7a",
   "metadata": {
    "scrolled": true
   },
   "outputs": [
    {
     "name": "stdout",
     "output_type": "stream",
     "text": [
      "[[4.86811936 3.188929   4.89073744 3.85926397 3.7909153  1.86435798\n",
      "  4.90509782 1.02492102 2.01192945 2.73916613 4.11753169 1.7907403\n",
      "  4.45197294 4.93360271 1.65536897 3.38933578 1.03594439 2.54628513\n",
      "  1.17664023 4.82661187 2.74458659 4.79590923 4.14522394 4.46515719\n",
      "  1.69266169 1.29979435 3.40297089 1.67188873 3.93352067 2.63377544\n",
      "  3.11163529 4.75028634 3.08678449 1.43277353 1.63289363 3.18081061\n",
      "  3.09761632 3.55044098 2.60598177 3.59922044]\n",
      " [2.3969     2.62391611 2.76740497 2.17897391 2.37557577 2.50253306\n",
      "  2.68666708 2.25367965 2.55474086 2.62493084 2.89550117 2.36285359\n",
      "  2.63755707 2.1914464  2.49779411 2.1824454  2.91838304 2.43182207\n",
      "  2.8301881  2.4167763  2.90466759 2.40482522 2.3311745  2.57213877\n",
      "  2.84544365 2.86101431 2.59568812 2.08466161 2.59726661 2.24545371\n",
      "  2.73259345 2.89465129 2.51473397 2.60356351 2.06506781 2.54007473\n",
      "  2.12918678 2.61456285 2.36365035 2.76775803]]\n"
     ]
    }
   ],
   "source": [
    "m = 40 # number of training examples\n",
    "np.random.seed(4)\n",
    "x1 = np.random.uniform(low=1.0, high=5.0, size=m) # values of feature x1 are between 1 and 5\n",
    "x2 = np.random.uniform(low=2.0, high=3.0, size=m) # values of feature x2 are between 2 and 3\n",
    "X = np.array([x1, x2])\n",
    "\n",
    "print (X)"
   ]
  },
  {
   "cell_type": "code",
   "execution_count": 20,
   "id": "c36a646a-eb82-45b6-ac87-39fdfeb61d88",
   "metadata": {},
   "outputs": [
    {
     "data": {
      "text/plain": [
       "<matplotlib.collections.PathCollection at 0x2861fe8ade0>"
      ]
     },
     "execution_count": 20,
     "metadata": {},
     "output_type": "execute_result"
    },
    {
     "data": {
      "image/png": "[encoded data removed]",
      "text/plain": [
       "<Figure size 640x480 with 1 Axes>"
      ]
     },
     "metadata": {},
     "output_type": "display_data"
    }
   ],
   "source": [
    "# A helper function for plotting the dataset as a scatter plot\n",
    "def plotting_helper(X, scale):\n",
    "    plt.ylim((-scale, scale)) # setting the range of the plotted y-axis\n",
    "    plt.xlim((-scale, scale)) # setting the range of the plotted x-axis\n",
    "    plt.axhline(0, color='gray', linewidth=1, linestyle='dotted') # plot the x-axis\n",
    "    plt.axvline(0, color='gray', linewidth=1, linestyle='dotted') # plot the y-axis\n",
    "    return plt.scatter(X[0], X[1])\n",
    "\n",
    "#### Graphical representation of the data in X\n",
    "plotting_helper(X, 5.5)"
   ]
  },
  {
   "cell_type": "markdown",
   "id": "fbf717bb-edf2-437b-94fc-b37b69a0192c",
   "metadata": {},
   "source": [
    "The mean can be calculated as: $$\\mu = \\frac{1}{m} {\\sum_{i=1}^{m}x}$$\n",
    "and then subtracted out of each element of the corresponding feature:\n",
    "$$x := x - \\mu$$"
   ]
  },
  {
   "cell_type": "code",
   "execution_count": 33,
   "id": "13964f3d-9b0c-432a-a0c3-9d0ff617ca49",
   "metadata": {},
   "outputs": [
    {
     "name": "stdout",
     "output_type": "stream",
     "text": [
      "[1.33226763e-16 3.33066907e-17]\n"
     ]
    },
    {
     "data": {
      "image/png": "[encoded data removed]",
      "text/plain": [
       "<Figure size 640x480 with 1 Axes>"
      ]
     },
     "metadata": {},
     "output_type": "display_data"
    }
   ],
   "source": [
    "mu_x1 = np.sum(x1) / m # calculate the mean of the x1 feature\n",
    "mu_x2 = np.sum(x2) / m # calculate the mean of the x2 feature\n",
    "\n",
    "np.testing.assert_allclose(mu_x1, np.mean(x1), rtol=1e-5, atol=0)\n",
    "np.testing.assert_allclose(mu_x2, np.mean(x2), rtol=1e-5, atol=0)\n",
    "\n",
    "x1_new = x1 - mu_x1\n",
    "x2_new = x2 - mu_x2\n",
    "X_new = np.array([x1_new, x2_new])\n",
    "\n",
    "#### Graphical representation of the data in X after subtracting the mean\n",
    "plotting_helper(X_new, 5.5)\n",
    "print(X_new.mean(axis=1))"
   ]
  },
  {
   "cell_type": "markdown",
   "id": "7928b25d-010c-4ed4-8456-cb3161bc7329",
   "metadata": {},
   "source": [
    "Our training set has now (almost) zero-mean over both features."
   ]
  },
  {
   "cell_type": "markdown",
   "id": "0956475b-9eb5-41b6-b193-2852748cedfe",
   "metadata": {},
   "source": [
    "The next step is to normalize the variances. It is obvious that the feature $x_1$ has much larger variance than the feature $x_2$. In order to do so:\n",
    "\n",
    "For our distribution with zero-mean, the variance can be calculated as: $$\\sigma^{2} = \\frac{1}{m} {\\sum_{i=1}^{m}x^{2}}$$\n",
    "and then each element of the features should be divided by the corresponding variance :\n",
    "$$x := \\frac{x}{\\sigma}$$"
   ]
  },
  {
   "cell_type": "code",
   "execution_count": 32,
   "id": "ec6b06b0-9e44-495f-9d21-19fe3afcb1e7",
   "metadata": {},
   "outputs": [
    {
     "name": "stdout",
     "output_type": "stream",
     "text": [
      "[1. 1.]\n"
     ]
    },
    {
     "data": {
      "image/png": "[encoded data removed]",
      "text/plain": [
       "<Figure size 640x480 with 1 Axes>"
      ]
     },
     "metadata": {},
     "output_type": "display_data"
    }
   ],
   "source": [
    "sigma_x1 = np.sum(np.square(x1_new)) / m # calculate the mean of the x1 feature\n",
    "sigma_x2 = np.sum(np.square(x2_new)) / m # calculate the mean of the x2 feature\n",
    "\n",
    "np.testing.assert_allclose(sigma_x1, np.var(x1_new), rtol=1e-5, atol=0)\n",
    "np.testing.assert_allclose(sigma_x2, np.var(x2_new), rtol=1e-5, atol=0)\n",
    "\n",
    "x1_norm = x1_new / np.sqrt(sigma_x1)\n",
    "x2_norm = x2_new / np.sqrt(sigma_x2)\n",
    "X_norm = np.array([x1_norm, x2_norm])\n",
    "\n",
    "plotting_helper(X_norm, 5.5)\n",
    "print(X_norm.std(axis=1))"
   ]
  },
  {
   "cell_type": "markdown",
   "id": "dc2d54f1-5f27-44b5-ace3-733fdc55c206",
   "metadata": {},
   "source": [
    "The variances of both $x_1$ and $x_2$ are now equal to 1."
   ]
  },
  {
   "cell_type": "markdown",
   "id": "2e4718f4-0770-402c-9f04-90a489f0cbc9",
   "metadata": {},
   "source": [
    "#### Another way to calculate the norm is by employing element-wise operations"
   ]
  },
  {
   "cell_type": "code",
   "execution_count": 31,
   "id": "5d1382e4-41c2-45b7-a435-fb4fa0b30b07",
   "metadata": {},
   "outputs": [
    {
     "name": "stdout",
     "output_type": "stream",
     "text": [
      "[1. 1.]\n"
     ]
    },
    {
     "data": {
      "image/png": "[encoded data removed]",
      "text/plain": [
       "<Figure size 640x480 with 1 Axes>"
      ]
     },
     "metadata": {},
     "output_type": "display_data"
    }
   ],
   "source": [
    "X_squared = np.square(X_new) # element-wise squaring of all elements of the dataset\n",
    "sum_X = np.sum(X_squared, axis=1) # summing all elements per row\n",
    "sigmas_X = np.divide(sum_X , m) # dividing the sums by m\n",
    "sigmas_X = np.expand_dims(sigmas_X, axis=1) # reshaping the result with aditional axis - from (2,) to  (2, 1)\n",
    "\n",
    "X_norm_easy = np.divide(X_new, np.sqrt(sigmas_X)) # perform the element-wise division\n",
    "\n",
    "plotting_helper(X_norm_easy, 5.5)\n",
    "print(X_norm_easy.std(axis=1))"
   ]
  },
  {
   "cell_type": "markdown",
   "id": "5e426e90-5d5d-4376-ab2b-29c9f4fa1437",
   "metadata": {},
   "source": [
    "The variances of both $x_1$ and $x_2$ are again equal to 1."
   ]
  },
  {
   "cell_type": "markdown",
   "id": "dc5ff0c5-d517-4f0f-978e-df5f317231a4",
   "metadata": {},
   "source": [
    "#### Machine learning tools:\n",
    "`sklearn` provide normalizing functions that let you apply various normalizations."
   ]
  },
  {
   "cell_type": "code",
   "execution_count": 30,
   "id": "40e8be62-7a44-4fc0-9bc1-ec1bc559f522",
   "metadata": {},
   "outputs": [
    {
     "name": "stdout",
     "output_type": "stream",
     "text": [
      "[1. 1.]\n"
     ]
    },
    {
     "data": {
      "image/png": "[encoded data removed]",
      "text/plain": [
       "<Figure size 640x480 with 1 Axes>"
      ]
     },
     "metadata": {},
     "output_type": "display_data"
    }
   ],
   "source": [
    "normed_matrix = scale(X, axis=1)\n",
    "plotting_helper(normed_matrix, 5.5)\n",
    "print(normed_matrix.std(axis=1)) # the sum of the normalized features should be 1."
   ]
  },
  {
   "cell_type": "markdown",
   "id": "381251fb-0480-43a2-8a7a-a55a7033c87a",
   "metadata": {},
   "source": [
    "<font color='white'>\n",
    "**Important notice**:\n",
    "- keep track of the dimensions of the data structures in NumPy when calculating matrix and dot product.\n",
    "- in order to perform elementwise operations, the sizes of the NumPy arrays must be identical."
   ]
  },
  {
   "cell_type": "code",
   "execution_count": null,
   "id": "4485d1a0-5254-4e35-a0b1-32ff0fbecc2b",
   "metadata": {},
   "outputs": [],
   "source": []
  },
  {
   "cell_type": "code",
   "execution_count": null,
   "id": "b33e7865-de5d-4cf6-bcfe-d78e65c578b4",
   "metadata": {},
   "outputs": [],
   "source": []
  }
 ],
 "metadata": {
  "kernelspec": {
   "display_name": "Python 3 (ipykernel)",
   "language": "python",
   "name": "python3"
  },
  "language_info": {
   "codemirror_mode": {
    "name": "ipython",
    "version": 3
   },
   "file_extension": ".py",
   "mimetype": "text/x-python",
   "name": "python",
   "nbconvert_exporter": "python",
   "pygments_lexer": "ipython3",
   "version": "3.12.1"
  }
 },
 "nbformat": 4,
 "nbformat_minor": 5
}
